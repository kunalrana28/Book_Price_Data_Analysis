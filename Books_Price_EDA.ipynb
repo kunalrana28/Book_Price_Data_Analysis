{
 "cells": [
  {
   "cell_type": "code",
   "execution_count": 51,
   "metadata": {},
   "outputs": [],
   "source": [
    "import pandas as pd\n",
    "import numpy as np\n",
    "import matplotlib.pyplot as plt\n",
    "import seaborn as sns \n",
    "import warnings"
   ]
  },
  {
   "cell_type": "code",
   "execution_count": 52,
   "metadata": {},
   "outputs": [],
   "source": [
    "df_train = pd.read_excel(r'C:\\Users\\lenovo\\Downloads\\DS_Practice\\MACHINEHACK HACKATHONS\\Book-Price-MachineHack\\Data\\Data_Train.xlsx')"
   ]
  },
  {
   "cell_type": "code",
   "execution_count": 53,
   "metadata": {},
   "outputs": [],
   "source": [
    "df_test = pd.read_excel(r'C:\\Users\\lenovo\\Downloads\\DS_Practice\\MACHINEHACK HACKATHONS\\Book-Price-MachineHack\\Data\\Data_Test.xlsx')"
   ]
  },
  {
   "cell_type": "code",
   "execution_count": 54,
   "metadata": {},
   "outputs": [
    {
     "data": {
      "text/html": [
       "<div>\n",
       "<style scoped>\n",
       "    .dataframe tbody tr th:only-of-type {\n",
       "        vertical-align: middle;\n",
       "    }\n",
       "\n",
       "    .dataframe tbody tr th {\n",
       "        vertical-align: top;\n",
       "    }\n",
       "\n",
       "    .dataframe thead th {\n",
       "        text-align: right;\n",
       "    }\n",
       "</style>\n",
       "<table border=\"1\" class=\"dataframe\">\n",
       "  <thead>\n",
       "    <tr style=\"text-align: right;\">\n",
       "      <th></th>\n",
       "      <th>Title</th>\n",
       "      <th>Author</th>\n",
       "      <th>Edition</th>\n",
       "      <th>Reviews</th>\n",
       "      <th>Ratings</th>\n",
       "      <th>Synopsis</th>\n",
       "      <th>Genre</th>\n",
       "      <th>BookCategory</th>\n",
       "      <th>Price</th>\n",
       "    </tr>\n",
       "  </thead>\n",
       "  <tbody>\n",
       "    <tr>\n",
       "      <th>0</th>\n",
       "      <td>The Prisoner's Gold (The Hunters 3)</td>\n",
       "      <td>Chris Kuzneski</td>\n",
       "      <td>Paperback,– 10 Mar 2016</td>\n",
       "      <td>4.0 out of 5 stars</td>\n",
       "      <td>8 customer reviews</td>\n",
       "      <td>THE HUNTERS return in their third brilliant no...</td>\n",
       "      <td>Action &amp; Adventure (Books)</td>\n",
       "      <td>Action &amp; Adventure</td>\n",
       "      <td>220.00</td>\n",
       "    </tr>\n",
       "    <tr>\n",
       "      <th>1</th>\n",
       "      <td>Guru Dutt: A Tragedy in Three Acts</td>\n",
       "      <td>Arun Khopkar</td>\n",
       "      <td>Paperback,– 7 Nov 2012</td>\n",
       "      <td>3.9 out of 5 stars</td>\n",
       "      <td>14 customer reviews</td>\n",
       "      <td>A layered portrait of a troubled genius for wh...</td>\n",
       "      <td>Cinema &amp; Broadcast (Books)</td>\n",
       "      <td>Biographies, Diaries &amp; True Accounts</td>\n",
       "      <td>202.93</td>\n",
       "    </tr>\n",
       "    <tr>\n",
       "      <th>2</th>\n",
       "      <td>Leviathan (Penguin Classics)</td>\n",
       "      <td>Thomas Hobbes</td>\n",
       "      <td>Paperback,– 25 Feb 1982</td>\n",
       "      <td>4.8 out of 5 stars</td>\n",
       "      <td>6 customer reviews</td>\n",
       "      <td>\"During the time men live without a common Pow...</td>\n",
       "      <td>International Relations</td>\n",
       "      <td>Humour</td>\n",
       "      <td>299.00</td>\n",
       "    </tr>\n",
       "  </tbody>\n",
       "</table>\n",
       "</div>"
      ],
      "text/plain": [
       "                                 Title          Author  \\\n",
       "0  The Prisoner's Gold (The Hunters 3)  Chris Kuzneski   \n",
       "1   Guru Dutt: A Tragedy in Three Acts    Arun Khopkar   \n",
       "2         Leviathan (Penguin Classics)   Thomas Hobbes   \n",
       "\n",
       "                   Edition             Reviews              Ratings  \\\n",
       "0  Paperback,– 10 Mar 2016  4.0 out of 5 stars   8 customer reviews   \n",
       "1   Paperback,– 7 Nov 2012  3.9 out of 5 stars  14 customer reviews   \n",
       "2  Paperback,– 25 Feb 1982  4.8 out of 5 stars   6 customer reviews   \n",
       "\n",
       "                                            Synopsis  \\\n",
       "0  THE HUNTERS return in their third brilliant no...   \n",
       "1  A layered portrait of a troubled genius for wh...   \n",
       "2  \"During the time men live without a common Pow...   \n",
       "\n",
       "                        Genre                          BookCategory   Price  \n",
       "0  Action & Adventure (Books)                    Action & Adventure  220.00  \n",
       "1  Cinema & Broadcast (Books)  Biographies, Diaries & True Accounts  202.93  \n",
       "2     International Relations                                Humour  299.00  "
      ]
     },
     "execution_count": 54,
     "metadata": {},
     "output_type": "execute_result"
    }
   ],
   "source": [
    "df_train.head(3)"
   ]
  },
  {
   "cell_type": "code",
   "execution_count": 55,
   "metadata": {},
   "outputs": [
    {
     "name": "stdout",
     "output_type": "stream",
     "text": [
      "<class 'pandas.core.frame.DataFrame'>\n",
      "RangeIndex: 6237 entries, 0 to 6236\n",
      "Data columns (total 9 columns):\n",
      " #   Column        Non-Null Count  Dtype  \n",
      "---  ------        --------------  -----  \n",
      " 0   Title         6237 non-null   object \n",
      " 1   Author        6237 non-null   object \n",
      " 2   Edition       6237 non-null   object \n",
      " 3   Reviews       6237 non-null   object \n",
      " 4   Ratings       6237 non-null   object \n",
      " 5   Synopsis      6237 non-null   object \n",
      " 6   Genre         6237 non-null   object \n",
      " 7   BookCategory  6237 non-null   object \n",
      " 8   Price         6237 non-null   float64\n",
      "dtypes: float64(1), object(8)\n",
      "memory usage: 243.7+ KB\n"
     ]
    }
   ],
   "source": [
    "df_train.info()"
   ]
  },
  {
   "cell_type": "code",
   "execution_count": 56,
   "metadata": {},
   "outputs": [
    {
     "name": "stdout",
     "output_type": "stream",
     "text": [
      "<class 'pandas.core.frame.DataFrame'>\n",
      "RangeIndex: 1560 entries, 0 to 1559\n",
      "Data columns (total 8 columns):\n",
      " #   Column        Non-Null Count  Dtype \n",
      "---  ------        --------------  ----- \n",
      " 0   Title         1560 non-null   object\n",
      " 1   Author        1560 non-null   object\n",
      " 2   Edition       1560 non-null   object\n",
      " 3   Reviews       1560 non-null   object\n",
      " 4   Ratings       1560 non-null   object\n",
      " 5   Synopsis      1560 non-null   object\n",
      " 6   Genre         1560 non-null   object\n",
      " 7   BookCategory  1560 non-null   object\n",
      "dtypes: object(8)\n",
      "memory usage: 48.8+ KB\n"
     ]
    }
   ],
   "source": [
    "df_test.info()"
   ]
  },
  {
   "cell_type": "markdown",
   "metadata": {},
   "source": [
    "## Data Exploration"
   ]
  },
  {
   "cell_type": "markdown",
   "metadata": {},
   "source": [
    "### Analyse Price of book column."
   ]
  },
  {
   "cell_type": "markdown",
   "metadata": {},
   "source": [
    "Let's proceed and check the distribution of the target variable."
   ]
  },
  {
   "cell_type": "code",
   "execution_count": null,
   "metadata": {},
   "outputs": [],
   "source": [
    "#SalePrice\n",
    "sns.distplot(df_train['Price'])"
   ]
  },
  {
   "cell_type": "code",
   "execution_count": 8,
   "metadata": {},
   "outputs": [],
   "source": [
    "#skewness\n",
    "print(\"The skewness of SalePrice is {}\".format(df_train['Price'].skew()))"
   ]
  },
  {
   "cell_type": "markdown",
   "metadata": {},
   "source": [
    "Let's log transform this variable and see if this variable distribution can get any closer to normal."
   ]
  },
  {
   "cell_type": "code",
   "execution_count": 9,
   "metadata": {},
   "outputs": [],
   "source": [
    "#now transforming the target variable\n",
    "target = np.log(df_train['Price'])\n",
    "print('Skewness is', target.skew())\n",
    "sns.distplot(target)"
   ]
  },
  {
   "cell_type": "markdown",
   "metadata": {},
   "source": [
    "### Analyse Genre column in train data set."
   ]
  },
  {
   "cell_type": "code",
   "execution_count": 10,
   "metadata": {},
   "outputs": [],
   "source": [
    "df_train.Genre.value_counts(normalize=True)*100"
   ]
  },
  {
   "cell_type": "code",
   "execution_count": 11,
   "metadata": {},
   "outputs": [],
   "source": [
    "sns.countplot(x='Genre', data=df_train)\n",
    "plt.xticks(rotation='vertical')\n",
    "plt.show()"
   ]
  },
  {
   "cell_type": "markdown",
   "metadata": {},
   "source": [
    "Too many categories in genre column so it is irrelevant to add Genre column in predictive model.  "
   ]
  },
  {
   "cell_type": "markdown",
   "metadata": {},
   "source": [
    "### Analyse BookCategory column in train data set."
   ]
  },
  {
   "cell_type": "code",
   "execution_count": 12,
   "metadata": {},
   "outputs": [],
   "source": [
    "df_train.BookCategory.value_counts(normalize=True)*100"
   ]
  },
  {
   "cell_type": "code",
   "execution_count": 13,
   "metadata": {},
   "outputs": [],
   "source": [
    "sns.countplot(x='BookCategory', data=df_train)\n",
    "plt.xticks(rotation='vertical')\n",
    "plt.show()"
   ]
  },
  {
   "cell_type": "code",
   "execution_count": 14,
   "metadata": {},
   "outputs": [],
   "source": [
    "## Box and whiskers plot is very useful to find relationship between numerical & categorical variables\n",
    "\n",
    "sns.boxplot(x='BookCategory', y = 'Price', data=df_train)\n",
    "plt.xticks(rotation = 'vertical')\n",
    "plt.show()"
   ]
  },
  {
   "cell_type": "code",
   "execution_count": 15,
   "metadata": {},
   "outputs": [],
   "source": [
    "## Cricket movie :- Fire In Babylon"
   ]
  },
  {
   "cell_type": "code",
   "execution_count": 16,
   "metadata": {},
   "outputs": [],
   "source": [
    "## Title column is not necessary to add in prediction model.\n",
    "df_train.Title.value_counts()"
   ]
  },
  {
   "cell_type": "code",
   "execution_count": 17,
   "metadata": {},
   "outputs": [],
   "source": [
    "df_train.Author.value_counts(normalize=True)*100"
   ]
  },
  {
   "cell_type": "markdown",
   "metadata": {},
   "source": [
    "## Data Pre Processing "
   ]
  },
  {
   "cell_type": "code",
   "execution_count": 18,
   "metadata": {},
   "outputs": [],
   "source": [
    "#Creating a copy of the train and test datasets\n",
    "test_copy  = df_test.copy()\n",
    "train_copy  = df_train.copy()"
   ]
  },
  {
   "cell_type": "code",
   "execution_count": 19,
   "metadata": {},
   "outputs": [],
   "source": [
    "##Concat Train and Test datasets\n",
    "train_copy['train']  = 1\n",
    "test_copy['train']  = 0\n",
    "df = pd.concat([train_copy, test_copy], axis=0,sort=False)"
   ]
  },
  {
   "cell_type": "code",
   "execution_count": 20,
   "metadata": {},
   "outputs": [],
   "source": [
    "## Remove title column from data set because it is not necessary in model development.\n",
    "df.drop(columns ='Title', axis=1, inplace =True)"
   ]
  },
  {
   "cell_type": "code",
   "execution_count": 21,
   "metadata": {},
   "outputs": [],
   "source": [
    "df.drop(columns=['Synopsis', 'Author','Genre'], axis=1, inplace=True)"
   ]
  },
  {
   "cell_type": "markdown",
   "metadata": {},
   "source": [
    "## Feature Engineering"
   ]
  },
  {
   "cell_type": "code",
   "execution_count": 22,
   "metadata": {},
   "outputs": [],
   "source": [
    "## Extract reviews in numeric form \n",
    "df['Reviews(out_of_5)'] = df['Reviews'].str[:3]\n",
    "## Make column numeric\n",
    "df['Reviews(out_of_5)'] = pd.to_numeric(df[\"Reviews(out_of_5)\"]) \n",
    "## drop reviews column\n",
    "df.drop(['Reviews'],axis=1, inplace=True)"
   ]
  },
  {
   "cell_type": "code",
   "execution_count": 23,
   "metadata": {},
   "outputs": [],
   "source": [
    "df['Edition_date'] = df['Edition'].str[-11:]"
   ]
  },
  {
   "cell_type": "code",
   "execution_count": 24,
   "metadata": {},
   "outputs": [],
   "source": [
    "df['Edition_date'].head(5)"
   ]
  },
  {
   "cell_type": "code",
   "execution_count": 25,
   "metadata": {},
   "outputs": [],
   "source": [
    "## Extract ratings in numeric form \n",
    "df['Ratings_count'] = df['Ratings'].str[:2]"
   ]
  },
  {
   "cell_type": "code",
   "execution_count": 26,
   "metadata": {},
   "outputs": [],
   "source": [
    "import re\n",
    "\n",
    "df['Ratings_count'] = df['Ratings'].str.replace(r'[^\\d.]+', '')"
   ]
  },
  {
   "cell_type": "code",
   "execution_count": 27,
   "metadata": {},
   "outputs": [],
   "source": [
    "## Make column data type numeric\n",
    "df['Ratings_count'] = pd.to_numeric(df['Ratings_count'])\n",
    "\n",
    "## Drop Ratings column\n",
    "df.drop(['Ratings'], axis=1, inplace=True)\n",
    "\n",
    "## Drop Edition column in dataframe.\n",
    "df.drop(['Edition'], axis=1, inplace=True)"
   ]
  },
  {
   "cell_type": "code",
   "execution_count": 28,
   "metadata": {},
   "outputs": [],
   "source": [
    "df.head()"
   ]
  },
  {
   "cell_type": "code",
   "execution_count": 29,
   "metadata": {},
   "outputs": [],
   "source": [
    "##df_author = df_train.Author.value_counts().loc[lambda x: x>15].reset_index()['index']\n",
    "\n",
    "## And if you don't need to have the result within a series, just do this:\n",
    "## df2.mi.value_counts().loc[lambda x: x>5].index"
   ]
  },
  {
   "cell_type": "code",
   "execution_count": 30,
   "metadata": {
    "scrolled": true
   },
   "outputs": [
    {
     "name": "stdout",
     "output_type": "stream",
     "text": [
      "<class 'pandas.core.frame.DataFrame'>\n",
      "Int64Index: 7767 entries, 0 to 1559\n",
      "Data columns (total 7 columns):\n",
      " #   Column             Non-Null Count  Dtype  \n",
      "---  ------             --------------  -----  \n",
      " 0   BookCategory       7767 non-null   object \n",
      " 1   Price              6216 non-null   float64\n",
      " 2   train              7767 non-null   int64  \n",
      " 3   Reviews(out_of_5)  7767 non-null   float64\n",
      " 4   Edition_date       7767 non-null   object \n",
      " 5   Ratings_count      7767 non-null   int64  \n",
      " 6   Year               7767 non-null   float64\n",
      "dtypes: float64(3), int64(2), object(2)\n",
      "memory usage: 424.8+ KB\n"
     ]
    }
   ],
   "source": [
    "df[\"Year\"] = df[\"Edition_date\"].str[-4:]\n",
    "#df[\"Year\"] = df[\"Year\"].astype('int32')\n",
    "df['Year'] = pd.to_numeric(df['Year'], errors='coerce') \n",
    "\n",
    "## Drop irrelevant values in year column other than year \n",
    "df.dropna(subset=['Year'], inplace=True)\n",
    "df.info()"
   ]
  },
  {
   "cell_type": "markdown",
   "metadata": {},
   "source": [
    "Their is no need to add month column because there is almost equall number of books releasing on each month."
   ]
  },
  {
   "cell_type": "markdown",
   "metadata": {},
   "source": [
    "### Graph a Correlation heatmap between numeric variables."
   ]
  },
  {
   "cell_type": "code",
   "execution_count": 33,
   "metadata": {},
   "outputs": [
    {
     "name": "stderr",
     "output_type": "stream",
     "text": [
      "c:\\users\\lenovo\\appdata\\local\\programs\\python\\python37-32\\lib\\site-packages\\pandas\\core\\frame.py:3997: SettingWithCopyWarning: \n",
      "A value is trying to be set on a copy of a slice from a DataFrame\n",
      "\n",
      "See the caveats in the documentation: https://pandas.pydata.org/pandas-docs/stable/user_guide/indexing.html#returning-a-view-versus-a-copy\n",
      "  errors=errors,\n"
     ]
    },
    {
     "data": {
      "text/plain": [
       "(7767, 4)"
      ]
     },
     "execution_count": 33,
     "metadata": {},
     "output_type": "execute_result"
    }
   ],
   "source": [
    "numeric_data = df.select_dtypes(exclude = [object])\n",
    "numeric_data.drop('train', inplace=True, axis=1)\n",
    "numeric_data.shape"
   ]
  },
  {
   "cell_type": "code",
   "execution_count": 34,
   "metadata": {},
   "outputs": [
    {
     "data": {
      "text/html": [
       "<div>\n",
       "<style scoped>\n",
       "    .dataframe tbody tr th:only-of-type {\n",
       "        vertical-align: middle;\n",
       "    }\n",
       "\n",
       "    .dataframe tbody tr th {\n",
       "        vertical-align: top;\n",
       "    }\n",
       "\n",
       "    .dataframe thead th {\n",
       "        text-align: right;\n",
       "    }\n",
       "</style>\n",
       "<table border=\"1\" class=\"dataframe\">\n",
       "  <thead>\n",
       "    <tr style=\"text-align: right;\">\n",
       "      <th></th>\n",
       "      <th>Price</th>\n",
       "      <th>Reviews(out_of_5)</th>\n",
       "      <th>Ratings_count</th>\n",
       "      <th>Year</th>\n",
       "    </tr>\n",
       "  </thead>\n",
       "  <tbody>\n",
       "    <tr>\n",
       "      <th>Price</th>\n",
       "      <td>1.000000</td>\n",
       "      <td>0.107784</td>\n",
       "      <td>-0.077556</td>\n",
       "      <td>-0.024814</td>\n",
       "    </tr>\n",
       "    <tr>\n",
       "      <th>Reviews(out_of_5)</th>\n",
       "      <td>0.107784</td>\n",
       "      <td>1.000000</td>\n",
       "      <td>-0.000946</td>\n",
       "      <td>0.007712</td>\n",
       "    </tr>\n",
       "    <tr>\n",
       "      <th>Ratings_count</th>\n",
       "      <td>-0.077556</td>\n",
       "      <td>-0.000946</td>\n",
       "      <td>1.000000</td>\n",
       "      <td>0.024005</td>\n",
       "    </tr>\n",
       "    <tr>\n",
       "      <th>Year</th>\n",
       "      <td>-0.024814</td>\n",
       "      <td>0.007712</td>\n",
       "      <td>0.024005</td>\n",
       "      <td>1.000000</td>\n",
       "    </tr>\n",
       "  </tbody>\n",
       "</table>\n",
       "</div>"
      ],
      "text/plain": [
       "                      Price  Reviews(out_of_5)  Ratings_count      Year\n",
       "Price              1.000000           0.107784      -0.077556 -0.024814\n",
       "Reviews(out_of_5)  0.107784           1.000000      -0.000946  0.007712\n",
       "Ratings_count     -0.077556          -0.000946       1.000000  0.024005\n",
       "Year              -0.024814           0.007712       0.024005  1.000000"
      ]
     },
     "execution_count": 34,
     "metadata": {},
     "output_type": "execute_result"
    }
   ],
   "source": [
    "corr_matrix = numeric_data.corr()\n",
    "corr_matrix"
   ]
  },
  {
   "cell_type": "code",
   "execution_count": 36,
   "metadata": {},
   "outputs": [
    {
     "data": {
      "image/png": "[encoded data removed]",
      "text/plain": [
       "<Figure size 432x288 with 2 Axes>"
      ]
     },
     "metadata": {
      "needs_background": "light"
     },
     "output_type": "display_data"
    }
   ],
   "source": [
    "sns.heatmap(corr_matrix, cmap=\"YlGnBu\")\n",
    "plt.show()"
   ]
  },
  {
   "cell_type": "markdown",
   "metadata": {},
   "source": [
    "### Compare price and edition year of books"
   ]
  },
  {
   "cell_type": "code",
   "execution_count": 38,
   "metadata": {},
   "outputs": [
    {
     "data": {
      "image/png": "[encoded data removed]",
      "text/plain": [
       "<Figure size 432x288 with 1 Axes>"
      ]
     },
     "metadata": {
      "needs_background": "light"
     },
     "output_type": "display_data"
    }
   ],
   "source": [
    "sns.countplot(x='Year', data=df)\n",
    "plt.xticks(rotation='vertical')\n",
    "plt.show()"
   ]
  },
  {
   "cell_type": "code",
   "execution_count": 39,
   "metadata": {},
   "outputs": [
    {
     "data": {
      "image/png": "[encoded data removed]",
      "text/plain": [
       "<Figure size 432x288 with 1 Axes>"
      ]
     },
     "metadata": {
      "needs_background": "light"
     },
     "output_type": "display_data"
    }
   ],
   "source": [
    "## Box and whiskers plot is very useful to find relationship between numerical & categorical variables\n",
    "\n",
    "sns.boxplot(x='Year', y = 'Price', data=df)\n",
    "plt.xticks(rotation = 'vertical')\n",
    "plt.show()"
   ]
  },
  {
   "cell_type": "code",
   "execution_count": 41,
   "metadata": {},
   "outputs": [
    {
     "data": {
      "text/plain": [
       "14100.0"
      ]
     },
     "execution_count": 41,
     "metadata": {},
     "output_type": "execute_result"
    }
   ],
   "source": [
    "## Detect and remove outliers\n",
    "df['Price'].max()"
   ]
  },
  {
   "cell_type": "code",
   "execution_count": 44,
   "metadata": {},
   "outputs": [
    {
     "data": {
      "text/plain": [
       "560.1986454311453"
      ]
     },
     "execution_count": 44,
     "metadata": {},
     "output_type": "execute_result"
    }
   ],
   "source": [
    "df['Price'].mean()"
   ]
  },
  {
   "cell_type": "code",
   "execution_count": 49,
   "metadata": {},
   "outputs": [
    {
     "data": {
      "text/html": [
       "<div>\n",
       "<style scoped>\n",
       "    .dataframe tbody tr th:only-of-type {\n",
       "        vertical-align: middle;\n",
       "    }\n",
       "\n",
       "    .dataframe tbody tr th {\n",
       "        vertical-align: top;\n",
       "    }\n",
       "\n",
       "    .dataframe thead th {\n",
       "        text-align: right;\n",
       "    }\n",
       "</style>\n",
       "<table border=\"1\" class=\"dataframe\">\n",
       "  <thead>\n",
       "    <tr style=\"text-align: right;\">\n",
       "      <th></th>\n",
       "      <th>BookCategory</th>\n",
       "      <th>Price</th>\n",
       "      <th>train</th>\n",
       "      <th>Reviews(out_of_5)</th>\n",
       "      <th>Edition_date</th>\n",
       "      <th>Ratings_count</th>\n",
       "      <th>Year</th>\n",
       "    </tr>\n",
       "  </thead>\n",
       "  <tbody>\n",
       "    <tr>\n",
       "      <th>886</th>\n",
       "      <td>Politics</td>\n",
       "      <td>13244.67</td>\n",
       "      <td>1</td>\n",
       "      <td>4.0</td>\n",
       "      <td>27 Oct 1999</td>\n",
       "      <td>1</td>\n",
       "      <td>1999.0</td>\n",
       "    </tr>\n",
       "    <tr>\n",
       "      <th>2455</th>\n",
       "      <td>Comics &amp; Mangas</td>\n",
       "      <td>14100.00</td>\n",
       "      <td>1</td>\n",
       "      <td>4.9</td>\n",
       "      <td>26 Aug 2016</td>\n",
       "      <td>22</td>\n",
       "      <td>2016.0</td>\n",
       "    </tr>\n",
       "    <tr>\n",
       "      <th>2560</th>\n",
       "      <td>Arts, Film &amp; Photography</td>\n",
       "      <td>9096.00</td>\n",
       "      <td>1</td>\n",
       "      <td>4.5</td>\n",
       "      <td>28 May 2010</td>\n",
       "      <td>10</td>\n",
       "      <td>2010.0</td>\n",
       "    </tr>\n",
       "    <tr>\n",
       "      <th>2607</th>\n",
       "      <td>Arts, Film &amp; Photography</td>\n",
       "      <td>11715.12</td>\n",
       "      <td>1</td>\n",
       "      <td>4.0</td>\n",
       "      <td>6 Oct 2009</td>\n",
       "      <td>1</td>\n",
       "      <td>2009.0</td>\n",
       "    </tr>\n",
       "    <tr>\n",
       "      <th>2818</th>\n",
       "      <td>Romance</td>\n",
       "      <td>9984.00</td>\n",
       "      <td>1</td>\n",
       "      <td>5.0</td>\n",
       "      <td>2 Mar 2010</td>\n",
       "      <td>1</td>\n",
       "      <td>2010.0</td>\n",
       "    </tr>\n",
       "  </tbody>\n",
       "</table>\n",
       "</div>"
      ],
      "text/plain": [
       "                  BookCategory     Price  train  Reviews(out_of_5)  \\\n",
       "886                   Politics  13244.67      1                4.0   \n",
       "2455           Comics & Mangas  14100.00      1                4.9   \n",
       "2560  Arts, Film & Photography   9096.00      1                4.5   \n",
       "2607  Arts, Film & Photography  11715.12      1                4.0   \n",
       "2818                   Romance   9984.00      1                5.0   \n",
       "\n",
       "     Edition_date  Ratings_count    Year  \n",
       "886   27 Oct 1999              1  1999.0  \n",
       "2455  26 Aug 2016             22  2016.0  \n",
       "2560  28 May 2010             10  2010.0  \n",
       "2607   6 Oct 2009              1  2009.0  \n",
       "2818   2 Mar 2010              1  2010.0  "
      ]
     },
     "execution_count": 49,
     "metadata": {},
     "output_type": "execute_result"
    }
   ],
   "source": [
    "df[df['Price']>9000]"
   ]
  },
  {
   "cell_type": "code",
   "execution_count": 50,
   "metadata": {},
   "outputs": [],
   "source": [
    "## Drop outliners in price column "
   ]
  },
  {
   "cell_type": "code",
   "execution_count": 57,
   "metadata": {},
   "outputs": [
    {
     "data": {
      "image/png": "[encoded data removed]",
      "text/plain": [
       "<Figure size 432x288 with 1 Axes>"
      ]
     },
     "metadata": {
      "needs_background": "light"
     },
     "output_type": "display_data"
    }
   ],
   "source": [
    "## Box and whiskers plot is very useful to find relationship between numerical & categorical variables\n",
    "\n",
    "sns.boxplot(x='BookCategory', y = 'Reviews(out_of_5)', data=df)\n",
    "plt.xticks(rotation = 'vertical')\n",
    "plt.show()"
   ]
  }
 ],
 "metadata": {
  "kernelspec": {
   "display_name": "Python 3",
   "language": "python",
   "name": "python3"
  },
  "language_info": {
   "codemirror_mode": {
    "name": "ipython",
    "version": 3
   },
   "file_extension": ".py",
   "mimetype": "text/x-python",
   "name": "python",
   "nbconvert_exporter": "python",
   "pygments_lexer": "ipython3",
   "version": "3.7.2"
  }
 },
 "nbformat": 4,
 "nbformat_minor": 2
}
